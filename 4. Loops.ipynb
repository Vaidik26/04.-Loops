{
 "cells": [
  {
   "cell_type": "code",
   "execution_count": 2,
   "metadata": {},
   "outputs": [
    {
     "name": "stdout",
     "output_type": "stream",
     "text": [
      "1\n",
      "2\n",
      "3\n",
      "4\n",
      "5\n"
     ]
    }
   ],
   "source": [
    "# 1. Print number from 1 to 5 having a while loop\n",
    "\n",
    "n = 1\n",
    "while (n <= 5) :\n",
    "    print(n)\n",
    "    n = n + 1"
   ]
  },
  {
   "cell_type": "code",
   "execution_count": 2,
   "metadata": {},
   "outputs": [
    {
     "name": "stdout",
     "output_type": "stream",
     "text": [
      "Answer is : 55\n"
     ]
    }
   ],
   "source": [
    "# 2. Calculate the sum of number from 1 to 10 using a while loop for python\n",
    "\n",
    "a = 0 \n",
    "b = 1\n",
    "\n",
    "while b <= 10:\n",
    "    a += b\n",
    "    b += 1\n",
    "print(\"Answer is :\" , a)"
   ]
  },
  {
   "cell_type": "code",
   "execution_count": 3,
   "metadata": {},
   "outputs": [
    {
     "name": "stdout",
     "output_type": "stream",
     "text": [
      "Factorial of the given number is:  479001600\n"
     ]
    }
   ],
   "source": [
    "# 3. Calculate the factorial of a number using a for loop.\n",
    "\n",
    "n = int (input (\"Enter a number: \"))\n",
    "factorial = 1\n",
    "if n >= 1:\n",
    "    for i in range (1, n+1):\n",
    "        factorial=factorial *i\n",
    "print(\"Factorial of the given number is: \", factorial)"
   ]
  },
  {
   "cell_type": "code",
   "execution_count": 19,
   "metadata": {},
   "outputs": [
    {
     "name": "stdout",
     "output_type": "stream",
     "text": [
      "Total number of vowels =  1\n"
     ]
    }
   ],
   "source": [
    "# 4. Count the number of vowels in a string using a for loop.\n",
    "\n",
    "s = input(\"Enter ur string : \")\n",
    "vowel = [\"a\", \"e\", \"i\", \"o\", \"u\", \"A\", \"E\", \"I\", \"O\", \"U\"]\n",
    "num_of_times = 0\n",
    "for c in s:\n",
    "    if c in vowel:\n",
    "        num_of_times = num_of_times + 1\n",
    "print(\"Total number of vowels = \", num_of_times)"
   ]
  },
  {
   "cell_type": "code",
   "execution_count": 10,
   "metadata": {},
   "outputs": [
    {
     "name": "stdout",
     "output_type": "stream",
     "text": [
      "3\n",
      "Number is executed\n",
      "4\n",
      "Number is executed\n",
      "5\n"
     ]
    }
   ],
   "source": [
    "#5. Print a pattern using nested loops?\n",
    "\n",
    "n = int(input(\"Enter your number : \"))\n",
    "m = 1\n",
    "\n",
    "while n <= 5:\n",
    "    print(n)\n",
    "    n = n + 1\n",
    "    if n > 5:\n",
    "        break\n",
    "        print(\"Cannot be execute because number is greater than 20\")\n",
    "    else:\n",
    "        print(\"Number is executed\")\n",
    "\n"
   ]
  },
  {
   "cell_type": "code",
   "execution_count": 2,
   "metadata": {},
   "outputs": [
    {
     "name": "stdout",
     "output_type": "stream",
     "text": [
      "Table of 2\n",
      "2\n",
      "4\n",
      "6\n",
      "8\n",
      "10\n",
      "12\n",
      "14\n",
      "16\n",
      "18\n",
      "20\n"
     ]
    }
   ],
   "source": [
    "#6.Generate a multiplication table using nested loop?\n",
    "\n",
    "n = int(input(\"Enter number which table u want : \"))\n",
    "print(\"Table of\" , n)\n",
    "\n",
    "i = 1\n",
    "while i <= 10:\n",
    "    print(n*i)\n",
    "    i +=1"
   ]
  },
  {
   "cell_type": "code",
   "execution_count": null,
   "metadata": {},
   "outputs": [],
   "source": []
  }
 ],
 "metadata": {
  "kernelspec": {
   "display_name": "Python 3",
   "language": "python",
   "name": "python3"
  },
  "language_info": {
   "codemirror_mode": {
    "name": "ipython",
    "version": 3
   },
   "file_extension": ".py",
   "mimetype": "text/x-python",
   "name": "python",
   "nbconvert_exporter": "python",
   "pygments_lexer": "ipython3",
   "version": "3.12.2"
  }
 },
 "nbformat": 4,
 "nbformat_minor": 2
}
